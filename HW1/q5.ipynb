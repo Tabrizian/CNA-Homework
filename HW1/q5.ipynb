{
 "cells": [
  {
   "cell_type": "code",
   "execution_count": 186,
   "metadata": {},
   "outputs": [],
   "source": [
    "import networkx as nx\n",
    "import numpy\n",
    "import scipy.cluster.vq as clustering\n",
    "from community import community_louvain\n",
    "\n",
    "graph = nx.readwrite.edgelist.read_edgelist('./Wiki-Vote.txt')\n",
    "nodes = sorted(graph.nodes())"
   ]
  },
  {
   "cell_type": "code",
   "execution_count": 187,
   "metadata": {},
   "outputs": [],
   "source": [
    "def create_two_clusters(graph):\n",
    "    nodes = sorted(graph.nodes())\n",
    "    modularity_matrix = nx.modularity_matrix(graph, nodes)\n",
    "    eigenvalues, eigenvectors = numpy.linalg.eigh(modularity_matrix)\n",
    "    clusters, centroids = clustering.kmeans(eigenvectors[-2:].getT(), 2)\n",
    "    labels, dist = clustering.vq(eigenvectors[0:2].getT(), clusters)\n",
    "    return labels"
   ]
  },
  {
   "cell_type": "code",
   "execution_count": 188,
   "metadata": {},
   "outputs": [],
   "source": [
    "def compute_modularity(clustering_labels, graph):\n",
    "    return community_louvain.modularity(clustering_labels, graph)"
   ]
  },
  {
   "cell_type": "code",
   "execution_count": 189,
   "metadata": {},
   "outputs": [],
   "source": [
    "def get_nodes(graph, labels):\n",
    "    node_list = {}\n",
    "    node_index = {}\n",
    "    node_cluster = {}\n",
    "    nodes = sorted(graph.nodes())\n",
    "    index = 0\n",
    "    for node in nodes:\n",
    "        node_cluster[node] = labels[index]\n",
    "        if labels[index] in node_index:\n",
    "            node_index[labels[index]].append(node)\n",
    "        else:\n",
    "            node_index[labels[index]] = [node]\n",
    "            \n",
    "        if labels[index] in node_list:\n",
    "            node_list[labels[index]].append(index)\n",
    "        else:\n",
    "            node_list[labels[index]] = [index]\n",
    "        index += 1\n",
    "    \n",
    "    return (node_list, node_index, node_cluster)"
   ]
  },
  {
   "cell_type": "code",
   "execution_count": 190,
   "metadata": {},
   "outputs": [],
   "source": [
    "def update_labels(node_cluster_total, node_cluster_local, key, max_cluster_number):\n",
    "    for node in node_cluster_local:\n",
    "        if node_cluster_local[node] == 1:\n",
    "            node_cluster_total[node] = max_cluster_number\n",
    "    \n",
    "    sorted_node_cluster = sorted(node_cluster_total)\n",
    "    new_labels = []\n",
    "    for key in node_cluster_total:\n",
    "        new_labels.append(node_cluster_total[key])\n",
    "        \n",
    "    \n",
    "    return (node_cluster_total, new_labels)"
   ]
  },
  {
   "cell_type": "code",
   "execution_count": 198,
   "metadata": {},
   "outputs": [],
   "source": [
    "def create_clusters(graph):\n",
    "    old_modularity = -1\n",
    "    new_modularity = 1\n",
    "    labels = []\n",
    "    node_list = {}\n",
    "    node_index = []\n",
    "    node_cluster = {}\n",
    "    \n",
    "    while new_modularity >= old_modularity:\n",
    "    \n",
    "        if len(labels) == 0:\n",
    "            new_labels = create_two_clusters(graph)\n",
    "            if len(labels) == 0:\n",
    "                labels = new_labels\n",
    "                node_list, node_index, node_cluster = get_nodes(graph, labels)\n",
    "\n",
    "            old_modularity = compute_modularity(node_cluster, graph)\n",
    "            print(old_modularity)\n",
    "        else:\n",
    "            new_modularity = old_modularity\n",
    "            node_list, node_index, fake_value = get_nodes(graph, labels)\n",
    "            num_of_clusters = range(len(node_list))\n",
    "            index = 0\n",
    "            for key in num_of_clusters:\n",
    "                print(index)\n",
    "                subgraph = graph.subgraph(node_index[key])\n",
    "                new_labels = create_two_clusters(subgraph)\n",
    "                fake_val, fake_val2, node_cluster_local = get_nodes(subgraph, new_labels)\n",
    "                node_cluster, labels = update_labels(node_cluster, node_cluster_local, key, len(node_list) + index)\n",
    "                index += 1\n",
    "\n",
    "            old_modularity = new_modularity\n",
    "\n",
    "            new_modularity = compute_modularity(node_cluster, graph)\n",
    "\n",
    "            print(new_modularity)"
   ]
  },
  {
   "cell_type": "code",
   "execution_count": 200,
   "metadata": {},
   "outputs": [
    {
     "name": "stdout",
     "output_type": "stream",
     "text": [
      "0.013305176503003564\n",
      "0\n",
      "1\n",
      "0.009008809797549698\n"
     ]
    }
   ],
   "source": [
    "create_clusters(graph)"
   ]
  }
 ],
 "metadata": {
  "kernelspec": {
   "display_name": "ComplexNetwork-rchcUDBE",
   "language": "python",
   "name": "complexnetwork-rchcudbe"
  },
  "language_info": {
   "codemirror_mode": {
    "name": "ipython",
    "version": 3
   },
   "file_extension": ".py",
   "mimetype": "text/x-python",
   "name": "python",
   "nbconvert_exporter": "python",
   "pygments_lexer": "ipython3",
   "version": "3.5.2"
  }
 },
 "nbformat": 4,
 "nbformat_minor": 2
}
